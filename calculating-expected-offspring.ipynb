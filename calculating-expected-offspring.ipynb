{
 "cells": [
  {
   "cell_type": "markdown",
   "metadata": {},
   "source": [
    "# Calculating Expected Offspring\n",
    "\n",
    "Link to problem: https://johannathorsen.github.io/bioinformatics/calculating-expected-offspring\n",
    "\n",
    "\n",
    "| Genotype parents   |      Percentage of children with dominant phenotype (Decimal)      |\n",
    "|----------|:-------------:|\n",
    "| AA-AA |  100% (1) |\n",
    "| AA-Aa |  100% (1) |\n",
    "| AA-aa |  100% (1) |\n",
    "| Aa-Aa |  75% (0.75) |\n",
    "| Aa-aa |  50% (0.5) |\n",
    "| aa-aa |  0% (0) |\n",
    "\n",
    "### Input\n",
    "* `genotypes_parents`: 6 integers, each representing the number of couples with each genotype\n",
    "* `number_of_children`: 1 integer representing the number of offsprings each parent has"
   ]
  },
  {
   "cell_type": "code",
   "execution_count": 3,
   "metadata": {},
   "outputs": [],
   "source": [
    "genotypes_parents = [19763, 16475, 17374, 19739, 18092, 19865]\n",
    "number_of_children = 2"
   ]
  },
  {
   "cell_type": "code",
   "execution_count": 2,
   "metadata": {},
   "outputs": [
    {
     "name": "stdout",
     "output_type": "stream",
     "text": [
      "154924.5\n"
     ]
    }
   ],
   "source": [
    "dominant_child_chance = [1, 1, 1, 0.75, 0.5, 0]\n",
    "children_sum = 0\n",
    "for i in range(len(genotypes_parents)):\n",
    "    children_sum += genotypes_parents[i]*number_of_children*dominant_child_chance[i]\n",
    "print(children_sum)"
   ]
  }
 ],
 "metadata": {
  "kernelspec": {
   "display_name": "Python 3",
   "language": "python",
   "name": "python3"
  },
  "language_info": {
   "codemirror_mode": {
    "name": "ipython",
    "version": 3
   },
   "file_extension": ".py",
   "mimetype": "text/x-python",
   "name": "python",
   "nbconvert_exporter": "python",
   "pygments_lexer": "ipython3",
   "version": "3.6.10"
  }
 },
 "nbformat": 4,
 "nbformat_minor": 4
}
